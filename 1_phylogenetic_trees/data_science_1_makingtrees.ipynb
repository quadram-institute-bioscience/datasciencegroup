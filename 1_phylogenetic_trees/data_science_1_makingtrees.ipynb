{
 "cells": [
  {
   "cell_type": "markdown",
   "id": "85077ee7",
   "metadata": {},
   "source": [
    "# Data Science at QIB: Making a basic phylogenetic tree in R with coloured tips\n",
    "\n",
    "A phylogenetic tree is a diagrammatic representation of the evolutionary relationships among different species or groups of organisms. It depicts the common ancestry and evolutionary history of these organisms based on their genetic or morphological characteristics. Phylogenetic trees provide a visual framework for understanding the branching patterns and divergence of species over time, illustrating the evolutionary connections and the sequence of speciation events. \n",
    "\n",
    "**About ggtree:**\n",
    "`ggtree` is an extension package built on top of `ggplot2` that specifically focuses on visualizing and annotating phylogenetic trees. `ggplot2` is a widely used data visualization package in R that provides a powerful and flexible framework for creating various types of plots.\n",
    "\n",
    "https://github.com/YuLab-SMU/ggtree\n"
   ]
  },
  {
   "cell_type": "code",
   "execution_count": 7,
   "id": "b44d5867",
   "metadata": {},
   "outputs": [],
   "source": [
    "# Either require or library to import the libraries ggtree and ape.\n",
    "require(ggtree)\n",
    "require(ape)"
   ]
  },
  {
   "cell_type": "markdown",
   "id": "f0ba09d7",
   "metadata": {},
   "source": [
    "### Example data \n",
    "\n",
    "For the example data I have chosen some genomes from *Salmonella enterica* serovar Minnesota. We discussed these in a  publication: Alikhan et al. (2022) Dynamics of *Salmonella enterica* and antimicrobial resistance in the Brazilian poultry industry and global impacts on public health. PLoS Genet 18(6): e1010174. https://doi.org/10.1371/journal.pgen.1010174\n",
    "\n",
    "This does not directly correspond to the Minnesota (clade 1) tree in the paper, so do not expect it to match. \n",
    "\n",
    "The raw data is here if you want to follow along:\n",
    "\n",
    "* [Table of metadata - tab delimited](./minne.06.22.tsv)\n",
    "* [Phlyogenetic tree - newick format](./minne.06.22.nwk)"
   ]
  },
  {
   "cell_type": "code",
   "execution_count": 9,
   "id": "d4c8f940",
   "metadata": {},
   "outputs": [],
   "source": [
    "# You can also download the sample data from the URLs below\n",
    "download.file(\"https://www.happykhan.com/example_data/minne.06.22.nwk\", \"minne.06.22.nwk\")\n",
    "download.file(\"https://www.happykhan.com/example_data/minne.06.22.tsv\", \"minne.06.22.tsv\")"
   ]
  },
  {
   "cell_type": "code",
   "execution_count": 17,
   "id": "5cfd7390",
   "metadata": {},
   "outputs": [
    {
     "ename": "ERROR",
     "evalue": "Error in parse(text = x, srcfile = src): <text>:15:40: unexpected symbol\n14: p1 <- ggtree(all_tree) %<+% info + \n15:     geom_tippoint(aes(color=Collection Year\n                                           ^\n",
     "output_type": "error",
     "traceback": [
      "Error in parse(text = x, srcfile = src): <text>:15:40: unexpected symbol\n14: p1 <- ggtree(all_tree) %<+% info + \n15:     geom_tippoint(aes(color=Collection Year\n                                           ^\nTraceback:\n"
     ]
    }
   ],
   "source": [
    "options(repr.plot.width=7, repr.plot.height=7) ; par(oma=c(0,0,0,0)) # Change height/width to rescale your figure\n",
    "\n",
    "# Load in metadata, it is tab delimited hence we use `sep` \n",
    "info <- read.csv(\"minne.06.22.tsv\", sep=\"\\t\", header=TRUE)\n",
    "\n",
    "# Load in the newick file\n",
    "all_tree <- read.tree(\"minne.06.22.nwk\") \n",
    "all_tree <- root(all_tree, 'SAL_AB9236AA_AS') # This is an outgroup I picked for the tree.\n",
    "\n",
    "# Just shrinking some long branches so it's clearer\n",
    "# Don't distort your actual data this way without good reason. \n",
    "all_tree$edge.length[all_tree$edge.length  > 100  ]  <- 100 \n",
    "\n",
    "p1 <- ggtree(all_tree) %<+% info + \n",
    "    geom_tippoint(aes(color=Collection Year)) + # Colour code the tips with country\n",
    "    # Adding in a scale\n",
    "    geom_treescale(x=0, y=45, fontsize=4, linesize=2, offset=2, width=10)\n",
    "\n",
    "plot(p1)"
   ]
  },
  {
   "cell_type": "markdown",
   "id": "586eaafd",
   "metadata": {},
   "source": [
    "The output is a basic annotated tree with coloured tips for countries with an included key/legend and scale.\n",
    "In terms of configuring the tree scale:\n",
    "\n",
    "* Position with x,y. \n",
    "* Width is the length of the tree scale\n",
    "* Offset is the relative position of the line and the text"
   ]
  },
  {
   "cell_type": "code",
   "execution_count": null,
   "id": "885c7c56",
   "metadata": {},
   "outputs": [],
   "source": []
  }
 ],
 "metadata": {
  "kernelspec": {
   "display_name": "R [conda env:labbook] *",
   "language": "R",
   "name": "conda-env-labbook-r"
  },
  "language_info": {
   "codemirror_mode": "r",
   "file_extension": ".r",
   "mimetype": "text/x-r-source",
   "name": "R",
   "pygments_lexer": "r",
   "version": "4.1.3"
  }
 },
 "nbformat": 4,
 "nbformat_minor": 5
}
