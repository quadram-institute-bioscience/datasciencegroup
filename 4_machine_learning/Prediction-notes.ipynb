{
 "cells": [
  {
   "cell_type": "markdown",
   "id": "02381951-bda3-4a8a-a076-f67b2299e6e0",
   "metadata": {},
   "source": [
    "# Machine learning and a microbiome dataset\n",
    "\n",
    "*Giovanni Birolo and Andrea Telatin*\n",
    "\n",
    "Importing in Python a typical microbiome dataset, exploring its content and using\n",
    "statistical and machine learning libraries to classify and predict labels.\n"
   ]
  },
  {
   "cell_type": "code",
   "execution_count": 1,
   "id": "dbdf3337-3c93-4194-ad66-6bcf86c79f34",
   "metadata": {
    "tags": []
   },
   "outputs": [],
   "source": [
    "# Import relevant libraries\n",
    "import numpy\n",
    "import pandas"
   ]
  },
  {
   "cell_type": "markdown",
   "id": "d5a7548c-d07d-4027-979b-8b81f37dac0f",
   "metadata": {},
   "source": [
    "## A typical microbiome dataset\n",
    "\n",
    "A microbiome dataset, derived from 16S or WGS profiling, typically comprises several tables (or Data Frames) that include:\n",
    "\n",
    "* **Metadata**, which contains a comprehensive set of attributes for each sample.\n",
    "* **Feature table**, detailing the abundance of each feature (a proxy for \"species\") in every sample.\n",
    "* **Taxonomy table**, outlining the taxonomic classification for each feature.\n",
    "\n",
    "For this workshop we will analyse [a dataset](https://pubmed.ncbi.nlm.nih.gov/22688727/) from Pat Schloss lab: a metabarcoding study of the \n",
    "murine gut microbiome, to track daily fecal sample community membership and structure from individual mice over the first year of life.\n",
    "\n",
    "The study identified two distinct community states within this period, with the latter state demonstrating greater stability and no correlation with taxonomic or phylogenetic diversity, suggesting a significant degree of microbiome stability post-transition.\n",
    "\n",
    "### The metadata\n",
    "\n",
    "Let's start importing the metadata."
   ]
  },
  {
   "cell_type": "code",
   "execution_count": 2,
   "id": "bc4766f2-e4c8-479a-a5ff-3a20639770d6",
   "metadata": {
    "tags": []
   },
   "outputs": [
    {
     "data": {
      "text/html": [
       "<div>\n",
       "<style scoped>\n",
       "    .dataframe tbody tr th:only-of-type {\n",
       "        vertical-align: middle;\n",
       "    }\n",
       "\n",
       "    .dataframe tbody tr th {\n",
       "        vertical-align: top;\n",
       "    }\n",
       "\n",
       "    .dataframe thead th {\n",
       "        text-align: right;\n",
       "    }\n",
       "</style>\n",
       "<table border=\"1\" class=\"dataframe\">\n",
       "  <thead>\n",
       "    <tr style=\"text-align: right;\">\n",
       "      <th></th>\n",
       "      <th>Sex</th>\n",
       "      <th>Individual</th>\n",
       "      <th>Day</th>\n",
       "      <th>Label</th>\n",
       "    </tr>\n",
       "    <tr>\n",
       "      <th>#NAME</th>\n",
       "      <th></th>\n",
       "      <th></th>\n",
       "      <th></th>\n",
       "      <th></th>\n",
       "    </tr>\n",
       "  </thead>\n",
       "  <tbody>\n",
       "    <tr>\n",
       "      <th>Mock2</th>\n",
       "      <td>M</td>\n",
       "      <td>M0</td>\n",
       "      <td>0</td>\n",
       "      <td>Early</td>\n",
       "    </tr>\n",
       "    <tr>\n",
       "      <th>F3D0</th>\n",
       "      <td>F</td>\n",
       "      <td>F3</td>\n",
       "      <td>0</td>\n",
       "      <td>Early</td>\n",
       "    </tr>\n",
       "    <tr>\n",
       "      <th>F3D1</th>\n",
       "      <td>F</td>\n",
       "      <td>F3</td>\n",
       "      <td>1</td>\n",
       "      <td>Early</td>\n",
       "    </tr>\n",
       "    <tr>\n",
       "      <th>F3D11</th>\n",
       "      <td>F</td>\n",
       "      <td>F3</td>\n",
       "      <td>11</td>\n",
       "      <td>Early</td>\n",
       "    </tr>\n",
       "    <tr>\n",
       "      <th>F3D125</th>\n",
       "      <td>F</td>\n",
       "      <td>F3</td>\n",
       "      <td>125</td>\n",
       "      <td>Late</td>\n",
       "    </tr>\n",
       "    <tr>\n",
       "      <th>...</th>\n",
       "      <td>...</td>\n",
       "      <td>...</td>\n",
       "      <td>...</td>\n",
       "      <td>...</td>\n",
       "    </tr>\n",
       "    <tr>\n",
       "      <th>M6D6</th>\n",
       "      <td>M</td>\n",
       "      <td>M6</td>\n",
       "      <td>6</td>\n",
       "      <td>Early</td>\n",
       "    </tr>\n",
       "    <tr>\n",
       "      <th>M6D65</th>\n",
       "      <td>M</td>\n",
       "      <td>M6</td>\n",
       "      <td>65</td>\n",
       "      <td>Early</td>\n",
       "    </tr>\n",
       "    <tr>\n",
       "      <th>M6D7</th>\n",
       "      <td>M</td>\n",
       "      <td>M6</td>\n",
       "      <td>7</td>\n",
       "      <td>Early</td>\n",
       "    </tr>\n",
       "    <tr>\n",
       "      <th>M6D8</th>\n",
       "      <td>M</td>\n",
       "      <td>M6</td>\n",
       "      <td>8</td>\n",
       "      <td>Early</td>\n",
       "    </tr>\n",
       "    <tr>\n",
       "      <th>M6D9</th>\n",
       "      <td>M</td>\n",
       "      <td>M6</td>\n",
       "      <td>9</td>\n",
       "      <td>Early</td>\n",
       "    </tr>\n",
       "  </tbody>\n",
       "</table>\n",
       "<p>361 rows × 4 columns</p>\n",
       "</div>"
      ],
      "text/plain": [
       "       Sex Individual  Day  Label\n",
       "#NAME                            \n",
       "Mock2    M         M0    0  Early\n",
       "F3D0     F         F3    0  Early\n",
       "F3D1     F         F3    1  Early\n",
       "F3D11    F         F3   11  Early\n",
       "F3D125   F         F3  125   Late\n",
       "...     ..        ...  ...    ...\n",
       "M6D6     M         M6    6  Early\n",
       "M6D65    M         M6   65  Early\n",
       "M6D7     M         M6    7  Early\n",
       "M6D8     M         M6    8  Early\n",
       "M6D9     M         M6    9  Early\n",
       "\n",
       "[361 rows x 4 columns]"
      ]
     },
     "execution_count": 2,
     "metadata": {},
     "output_type": "execute_result"
    }
   ],
   "source": [
    "# Load metadata as dataframe\n",
    "sample_df = pandas.read_csv('mouse-16s/metadata.csv', index_col=0)\n",
    "#  and view it\n",
    "sample_df"
   ]
  },
  {
   "cell_type": "markdown",
   "id": "f8e83e84-9bc9-4727-919c-d33bb5b7f987",
   "metadata": {},
   "source": [
    "The metadata table consists of four columns (attributes), of which \"Label\" is the main attribute used in the paper: it's a categorization of the\n",
    "column \"Day\", which is the \"Day after weaning\" column.\n",
    "\n",
    "We can organize the data in `sample_df` by grouping it based on different 'Label' categories. \n",
    "For each group of labels, we will then looks at the 'Day' column and provides a summary. \n",
    "This summary includes statistics like the count of entries, the average (mean), minimum, maximum values, \n",
    "and some percentile values (like the 25th, 50th, and 75th percentiles) for the days associated with each label. \n",
    "\n",
    "Essentially, it's a way to quickly understand how the days are distributed across different labels in the dataset."
   ]
  },
  {
   "cell_type": "code",
   "execution_count": 3,
   "id": "5e4c5d8c-91a6-4e7e-a88b-da37a4ceceb4",
   "metadata": {
    "tags": []
   },
   "outputs": [
    {
     "data": {
      "text/html": [
       "<div>\n",
       "<style scoped>\n",
       "    .dataframe tbody tr th:only-of-type {\n",
       "        vertical-align: middle;\n",
       "    }\n",
       "\n",
       "    .dataframe tbody tr th {\n",
       "        vertical-align: top;\n",
       "    }\n",
       "\n",
       "    .dataframe thead th {\n",
       "        text-align: right;\n",
       "    }\n",
       "</style>\n",
       "<table border=\"1\" class=\"dataframe\">\n",
       "  <thead>\n",
       "    <tr style=\"text-align: right;\">\n",
       "      <th></th>\n",
       "      <th>count</th>\n",
       "      <th>mean</th>\n",
       "      <th>std</th>\n",
       "      <th>min</th>\n",
       "      <th>25%</th>\n",
       "      <th>50%</th>\n",
       "      <th>75%</th>\n",
       "      <th>max</th>\n",
       "    </tr>\n",
       "    <tr>\n",
       "      <th>Label</th>\n",
       "      <th></th>\n",
       "      <th></th>\n",
       "      <th></th>\n",
       "      <th></th>\n",
       "      <th></th>\n",
       "      <th></th>\n",
       "      <th></th>\n",
       "      <th></th>\n",
       "    </tr>\n",
       "  </thead>\n",
       "  <tbody>\n",
       "    <tr>\n",
       "      <th>Early</th>\n",
       "      <td>214.0</td>\n",
       "      <td>13.864486</td>\n",
       "      <td>15.800854</td>\n",
       "      <td>0.0</td>\n",
       "      <td>4.0</td>\n",
       "      <td>8.5</td>\n",
       "      <td>17.0</td>\n",
       "      <td>65.0</td>\n",
       "    </tr>\n",
       "    <tr>\n",
       "      <th>Late</th>\n",
       "      <td>147.0</td>\n",
       "      <td>159.285714</td>\n",
       "      <td>54.685652</td>\n",
       "      <td>124.0</td>\n",
       "      <td>143.0</td>\n",
       "      <td>146.0</td>\n",
       "      <td>149.0</td>\n",
       "      <td>364.0</td>\n",
       "    </tr>\n",
       "  </tbody>\n",
       "</table>\n",
       "</div>"
      ],
      "text/plain": [
       "       count        mean        std    min    25%    50%    75%    max\n",
       "Label                                                                 \n",
       "Early  214.0   13.864486  15.800854    0.0    4.0    8.5   17.0   65.0\n",
       "Late   147.0  159.285714  54.685652  124.0  143.0  146.0  149.0  364.0"
      ]
     },
     "execution_count": 3,
     "metadata": {},
     "output_type": "execute_result"
    }
   ],
   "source": [
    "sample_df.groupby('Label')['Day'].describe()"
   ]
  },
  {
   "cell_type": "markdown",
   "id": "cf845ad5-7dad-4150-9326-247c9e46f8a3",
   "metadata": {},
   "source": [
    "We can now remove the 'Individual' column from the `sample_df` data table and \n",
    "then counts how often each unique combination of values occurs in the remaining data."
   ]
  },
  {
   "cell_type": "code",
   "execution_count": 4,
   "id": "584cc24a-5d3c-48f4-8504-c68ed40014de",
   "metadata": {
    "tags": []
   },
   "outputs": [
    {
     "data": {
      "text/plain": [
       "Sex  Day  Label\n",
       "M    0    Early    7\n",
       "     364  Late     6\n",
       "F    1    Early    6\n",
       "     0    Early    6\n",
       "M    141  Late     6\n",
       "                  ..\n",
       "F    364  Late     3\n",
       "     165  Late     2\n",
       "M    124  Late     2\n",
       "F    124  Late     1\n",
       "     302  Late     1\n",
       "Name: count, Length: 67, dtype: int64"
      ]
     },
     "execution_count": 4,
     "metadata": {},
     "output_type": "execute_result"
    }
   ],
   "source": [
    "sample_df.drop('Individual', axis=1).value_counts()"
   ]
  },
  {
   "cell_type": "markdown",
   "id": "ed34d367-dd49-44a4-9d49-66691dffe16a",
   "metadata": {},
   "source": [
    "### The feature table\n",
    "\n",
    "We can similarily import the feature table."
   ]
  },
  {
   "cell_type": "code",
   "execution_count": 5,
   "id": "ce8822a9-4ae3-4e01-9491-0946a0081a79",
   "metadata": {
    "tags": []
   },
   "outputs": [
    {
     "data": {
      "text/html": [
       "<div>\n",
       "<style scoped>\n",
       "    .dataframe tbody tr th:only-of-type {\n",
       "        vertical-align: middle;\n",
       "    }\n",
       "\n",
       "    .dataframe tbody tr th {\n",
       "        vertical-align: top;\n",
       "    }\n",
       "\n",
       "    .dataframe thead th {\n",
       "        text-align: right;\n",
       "    }\n",
       "</style>\n",
       "<table border=\"1\" class=\"dataframe\">\n",
       "  <thead>\n",
       "    <tr style=\"text-align: right;\">\n",
       "      <th></th>\n",
       "      <th>F6D7</th>\n",
       "      <th>M3D21</th>\n",
       "      <th>F7D13</th>\n",
       "      <th>M2D13</th>\n",
       "      <th>F8D7</th>\n",
       "      <th>M5D3</th>\n",
       "      <th>M3D17</th>\n",
       "      <th>M6D146</th>\n",
       "      <th>M3D19</th>\n",
       "      <th>M6D6</th>\n",
       "      <th>...</th>\n",
       "      <th>F3D8</th>\n",
       "      <th>M3D0</th>\n",
       "      <th>F7D0</th>\n",
       "      <th>F3D0</th>\n",
       "      <th>F8D3</th>\n",
       "      <th>M4D125</th>\n",
       "      <th>M4D142</th>\n",
       "      <th>F5D0</th>\n",
       "      <th>M6D15</th>\n",
       "      <th>F4D142</th>\n",
       "    </tr>\n",
       "    <tr>\n",
       "      <th>#OTU ID</th>\n",
       "      <th></th>\n",
       "      <th></th>\n",
       "      <th></th>\n",
       "      <th></th>\n",
       "      <th></th>\n",
       "      <th></th>\n",
       "      <th></th>\n",
       "      <th></th>\n",
       "      <th></th>\n",
       "      <th></th>\n",
       "      <th></th>\n",
       "      <th></th>\n",
       "      <th></th>\n",
       "      <th></th>\n",
       "      <th></th>\n",
       "      <th></th>\n",
       "      <th></th>\n",
       "      <th></th>\n",
       "      <th></th>\n",
       "      <th></th>\n",
       "      <th></th>\n",
       "    </tr>\n",
       "  </thead>\n",
       "  <tbody>\n",
       "    <tr>\n",
       "      <th>seq_1</th>\n",
       "      <td>860</td>\n",
       "      <td>1489</td>\n",
       "      <td>796</td>\n",
       "      <td>1411</td>\n",
       "      <td>440</td>\n",
       "      <td>1884</td>\n",
       "      <td>842</td>\n",
       "      <td>359</td>\n",
       "      <td>589</td>\n",
       "      <td>1069</td>\n",
       "      <td>...</td>\n",
       "      <td>304</td>\n",
       "      <td>875</td>\n",
       "      <td>880</td>\n",
       "      <td>617</td>\n",
       "      <td>1273</td>\n",
       "      <td>915</td>\n",
       "      <td>1270</td>\n",
       "      <td>1813</td>\n",
       "      <td>887</td>\n",
       "      <td>1066</td>\n",
       "    </tr>\n",
       "    <tr>\n",
       "      <th>seq_2</th>\n",
       "      <td>1007</td>\n",
       "      <td>1627</td>\n",
       "      <td>942</td>\n",
       "      <td>946</td>\n",
       "      <td>504</td>\n",
       "      <td>644</td>\n",
       "      <td>716</td>\n",
       "      <td>394</td>\n",
       "      <td>530</td>\n",
       "      <td>990</td>\n",
       "      <td>...</td>\n",
       "      <td>364</td>\n",
       "      <td>829</td>\n",
       "      <td>1221</td>\n",
       "      <td>374</td>\n",
       "      <td>905</td>\n",
       "      <td>661</td>\n",
       "      <td>912</td>\n",
       "      <td>1309</td>\n",
       "      <td>576</td>\n",
       "      <td>1106</td>\n",
       "    </tr>\n",
       "    <tr>\n",
       "      <th>seq_3</th>\n",
       "      <td>804</td>\n",
       "      <td>1864</td>\n",
       "      <td>1513</td>\n",
       "      <td>935</td>\n",
       "      <td>650</td>\n",
       "      <td>672</td>\n",
       "      <td>1169</td>\n",
       "      <td>328</td>\n",
       "      <td>557</td>\n",
       "      <td>592</td>\n",
       "      <td>...</td>\n",
       "      <td>365</td>\n",
       "      <td>1196</td>\n",
       "      <td>748</td>\n",
       "      <td>481</td>\n",
       "      <td>542</td>\n",
       "      <td>210</td>\n",
       "      <td>580</td>\n",
       "      <td>1510</td>\n",
       "      <td>454</td>\n",
       "      <td>879</td>\n",
       "    </tr>\n",
       "    <tr>\n",
       "      <th>seq_4</th>\n",
       "      <td>193</td>\n",
       "      <td>1101</td>\n",
       "      <td>346</td>\n",
       "      <td>879</td>\n",
       "      <td>91</td>\n",
       "      <td>460</td>\n",
       "      <td>971</td>\n",
       "      <td>570</td>\n",
       "      <td>435</td>\n",
       "      <td>174</td>\n",
       "      <td>...</td>\n",
       "      <td>155</td>\n",
       "      <td>1776</td>\n",
       "      <td>110</td>\n",
       "      <td>473</td>\n",
       "      <td>122</td>\n",
       "      <td>856</td>\n",
       "      <td>1616</td>\n",
       "      <td>1353</td>\n",
       "      <td>265</td>\n",
       "      <td>811</td>\n",
       "    </tr>\n",
       "    <tr>\n",
       "      <th>seq_5</th>\n",
       "      <td>908</td>\n",
       "      <td>314</td>\n",
       "      <td>944</td>\n",
       "      <td>679</td>\n",
       "      <td>644</td>\n",
       "      <td>566</td>\n",
       "      <td>432</td>\n",
       "      <td>306</td>\n",
       "      <td>544</td>\n",
       "      <td>966</td>\n",
       "      <td>...</td>\n",
       "      <td>621</td>\n",
       "      <td>1977</td>\n",
       "      <td>179</td>\n",
       "      <td>186</td>\n",
       "      <td>1078</td>\n",
       "      <td>411</td>\n",
       "      <td>557</td>\n",
       "      <td>2192</td>\n",
       "      <td>866</td>\n",
       "      <td>651</td>\n",
       "    </tr>\n",
       "    <tr>\n",
       "      <th>...</th>\n",
       "      <td>...</td>\n",
       "      <td>...</td>\n",
       "      <td>...</td>\n",
       "      <td>...</td>\n",
       "      <td>...</td>\n",
       "      <td>...</td>\n",
       "      <td>...</td>\n",
       "      <td>...</td>\n",
       "      <td>...</td>\n",
       "      <td>...</td>\n",
       "      <td>...</td>\n",
       "      <td>...</td>\n",
       "      <td>...</td>\n",
       "      <td>...</td>\n",
       "      <td>...</td>\n",
       "      <td>...</td>\n",
       "      <td>...</td>\n",
       "      <td>...</td>\n",
       "      <td>...</td>\n",
       "      <td>...</td>\n",
       "      <td>...</td>\n",
       "    </tr>\n",
       "    <tr>\n",
       "      <th>seq_381</th>\n",
       "      <td>0</td>\n",
       "      <td>0</td>\n",
       "      <td>0</td>\n",
       "      <td>0</td>\n",
       "      <td>0</td>\n",
       "      <td>0</td>\n",
       "      <td>0</td>\n",
       "      <td>0</td>\n",
       "      <td>0</td>\n",
       "      <td>0</td>\n",
       "      <td>...</td>\n",
       "      <td>0</td>\n",
       "      <td>0</td>\n",
       "      <td>0</td>\n",
       "      <td>0</td>\n",
       "      <td>0</td>\n",
       "      <td>0</td>\n",
       "      <td>0</td>\n",
       "      <td>0</td>\n",
       "      <td>0</td>\n",
       "      <td>0</td>\n",
       "    </tr>\n",
       "    <tr>\n",
       "      <th>seq_380</th>\n",
       "      <td>0</td>\n",
       "      <td>0</td>\n",
       "      <td>0</td>\n",
       "      <td>0</td>\n",
       "      <td>0</td>\n",
       "      <td>0</td>\n",
       "      <td>0</td>\n",
       "      <td>0</td>\n",
       "      <td>0</td>\n",
       "      <td>0</td>\n",
       "      <td>...</td>\n",
       "      <td>0</td>\n",
       "      <td>0</td>\n",
       "      <td>0</td>\n",
       "      <td>0</td>\n",
       "      <td>0</td>\n",
       "      <td>1</td>\n",
       "      <td>0</td>\n",
       "      <td>0</td>\n",
       "      <td>0</td>\n",
       "      <td>0</td>\n",
       "    </tr>\n",
       "    <tr>\n",
       "      <th>seq_383</th>\n",
       "      <td>0</td>\n",
       "      <td>0</td>\n",
       "      <td>0</td>\n",
       "      <td>0</td>\n",
       "      <td>0</td>\n",
       "      <td>0</td>\n",
       "      <td>0</td>\n",
       "      <td>0</td>\n",
       "      <td>0</td>\n",
       "      <td>0</td>\n",
       "      <td>...</td>\n",
       "      <td>0</td>\n",
       "      <td>0</td>\n",
       "      <td>0</td>\n",
       "      <td>0</td>\n",
       "      <td>0</td>\n",
       "      <td>0</td>\n",
       "      <td>0</td>\n",
       "      <td>0</td>\n",
       "      <td>0</td>\n",
       "      <td>0</td>\n",
       "    </tr>\n",
       "    <tr>\n",
       "      <th>seq_387</th>\n",
       "      <td>1</td>\n",
       "      <td>0</td>\n",
       "      <td>0</td>\n",
       "      <td>0</td>\n",
       "      <td>0</td>\n",
       "      <td>0</td>\n",
       "      <td>1</td>\n",
       "      <td>0</td>\n",
       "      <td>0</td>\n",
       "      <td>0</td>\n",
       "      <td>...</td>\n",
       "      <td>0</td>\n",
       "      <td>0</td>\n",
       "      <td>1</td>\n",
       "      <td>0</td>\n",
       "      <td>0</td>\n",
       "      <td>0</td>\n",
       "      <td>0</td>\n",
       "      <td>0</td>\n",
       "      <td>0</td>\n",
       "      <td>0</td>\n",
       "    </tr>\n",
       "    <tr>\n",
       "      <th>seq_385</th>\n",
       "      <td>0</td>\n",
       "      <td>0</td>\n",
       "      <td>0</td>\n",
       "      <td>0</td>\n",
       "      <td>0</td>\n",
       "      <td>0</td>\n",
       "      <td>0</td>\n",
       "      <td>0</td>\n",
       "      <td>0</td>\n",
       "      <td>0</td>\n",
       "      <td>...</td>\n",
       "      <td>0</td>\n",
       "      <td>0</td>\n",
       "      <td>0</td>\n",
       "      <td>1</td>\n",
       "      <td>0</td>\n",
       "      <td>0</td>\n",
       "      <td>0</td>\n",
       "      <td>0</td>\n",
       "      <td>0</td>\n",
       "      <td>0</td>\n",
       "    </tr>\n",
       "  </tbody>\n",
       "</table>\n",
       "<p>387 rows × 282 columns</p>\n",
       "</div>"
      ],
      "text/plain": [
       "         F6D7  M3D21  F7D13  M2D13  F8D7  M5D3  M3D17  M6D146  M3D19  M6D6  \\\n",
       "#OTU ID                                                                      \n",
       "seq_1     860   1489    796   1411   440  1884    842     359    589  1069   \n",
       "seq_2    1007   1627    942    946   504   644    716     394    530   990   \n",
       "seq_3     804   1864   1513    935   650   672   1169     328    557   592   \n",
       "seq_4     193   1101    346    879    91   460    971     570    435   174   \n",
       "seq_5     908    314    944    679   644   566    432     306    544   966   \n",
       "...       ...    ...    ...    ...   ...   ...    ...     ...    ...   ...   \n",
       "seq_381     0      0      0      0     0     0      0       0      0     0   \n",
       "seq_380     0      0      0      0     0     0      0       0      0     0   \n",
       "seq_383     0      0      0      0     0     0      0       0      0     0   \n",
       "seq_387     1      0      0      0     0     0      1       0      0     0   \n",
       "seq_385     0      0      0      0     0     0      0       0      0     0   \n",
       "\n",
       "         ...  F3D8  M3D0  F7D0  F3D0  F8D3  M4D125  M4D142  F5D0  M6D15  \\\n",
       "#OTU ID  ...                                                              \n",
       "seq_1    ...   304   875   880   617  1273     915    1270  1813    887   \n",
       "seq_2    ...   364   829  1221   374   905     661     912  1309    576   \n",
       "seq_3    ...   365  1196   748   481   542     210     580  1510    454   \n",
       "seq_4    ...   155  1776   110   473   122     856    1616  1353    265   \n",
       "seq_5    ...   621  1977   179   186  1078     411     557  2192    866   \n",
       "...      ...   ...   ...   ...   ...   ...     ...     ...   ...    ...   \n",
       "seq_381  ...     0     0     0     0     0       0       0     0      0   \n",
       "seq_380  ...     0     0     0     0     0       1       0     0      0   \n",
       "seq_383  ...     0     0     0     0     0       0       0     0      0   \n",
       "seq_387  ...     0     0     1     0     0       0       0     0      0   \n",
       "seq_385  ...     0     0     0     1     0       0       0     0      0   \n",
       "\n",
       "         F4D142  \n",
       "#OTU ID          \n",
       "seq_1      1066  \n",
       "seq_2      1106  \n",
       "seq_3       879  \n",
       "seq_4       811  \n",
       "seq_5       651  \n",
       "...         ...  \n",
       "seq_381       0  \n",
       "seq_380       0  \n",
       "seq_383       0  \n",
       "seq_387       0  \n",
       "seq_385       0  \n",
       "\n",
       "[387 rows x 282 columns]"
      ]
     },
     "execution_count": 5,
     "metadata": {},
     "output_type": "execute_result"
    }
   ],
   "source": [
    "otu_df = pandas.read_csv('mouse-16s/otutab.tsv', sep='\\t', index_col=0)\n",
    "otu_df"
   ]
  },
  {
   "cell_type": "markdown",
   "id": "6e2e53f6-b8f3-4f77-bf59-198df9841b26",
   "metadata": {},
   "source": [
    "We can transpose the feature table (also called OTU table). \n",
    "\n",
    "This is often done to make the samples (previously columns) now rows, \n",
    "which is a common format for machine learning and statistical analyses where features (OTUs in this case) \n",
    "need to be columns and each row represents an observation or sample."
   ]
  },
  {
   "cell_type": "code",
   "execution_count": 6,
   "id": "f287fc61-e007-49fe-93d7-6011aa95a3dd",
   "metadata": {
    "tags": []
   },
   "outputs": [],
   "source": [
    "# We can transpose the dataframe to easily match the metadata\n",
    "transposed_otu_df = otu_df.T"
   ]
  },
  {
   "cell_type": "markdown",
   "id": "33272bd3-0b7e-46dd-971f-fc2942569532",
   "metadata": {},
   "source": [
    "Now we can select rows from `sample_df` where the index (row labels) matches the index of X, the transposed otu_df. \n",
    "\n",
    "This ensures that the samples in Y are in the same order as in X, \n",
    "aligning the metadata or measurements in sample_df with the corresponding OTU data in X. \n",
    "\n",
    "This alignment is crucial for subsequent analyses, ensuring that each row across X and Y corresponds to the same sample."
   ]
  },
  {
   "cell_type": "code",
   "execution_count": 7,
   "id": "42c9beec-cb75-4faf-a37c-6aea51a59358",
   "metadata": {
    "tags": []
   },
   "outputs": [],
   "source": [
    "aligned_sample_df = sample_df.loc[transposed_otu_df.index]"
   ]
  },
  {
   "cell_type": "markdown",
   "id": "b326fc54-92ed-45ba-bc16-0b1231c441fe",
   "metadata": {},
   "source": [
    "## Visual exploration (unsupervised)"
   ]
  },
  {
   "cell_type": "markdown",
   "id": "9abc521c-5373-4fe5-896c-feeeefabe7fd",
   "metadata": {},
   "source": [
    "We will now visualise the sample similarity with a PCA. It's important to notice that\n",
    "there are measures of the \"distance\" of samples based on ecological concepts (such as [Jaccard Index](https://en.wikipedia.org/wiki/Jaccard_index)),\n",
    "and some are even designed for microbiome compositions (like the [UniFrac](https://en.wikipedia.org/wiki/UniFrac)).\n",
    "\n",
    "To focus on the general procedure (*i.e.* applicable on other datasets too) we will simplify the problem and just use the logarithm of counts.\n"
   ]
  },
  {
   "cell_type": "code",
   "execution_count": 8,
   "id": "b9e7271f-a6d6-4c07-9e10-be9b4e30f526",
   "metadata": {
    "tags": []
   },
   "outputs": [],
   "source": [
    "# Let's import PCA from Scikit Leaern and Seaborn (a plotting library)\n",
    "from sklearn.decomposition import PCA\n",
    "import seaborn"
   ]
  },
  {
   "cell_type": "markdown",
   "id": "4d602274-2a50-4991-b2a3-f98a190b8155",
   "metadata": {},
   "source": [
    "Now we can apply a logarithmic transformation to the data in `transposed_otu_df`, \n",
    "adding 1 before taking the log to avoid the issue of taking the logarithm of zero (which is undefined). \n",
    "\n",
    "This transformation is commonly used in data preprocessing to handle skewed data or data spanning several orders of magnitude, \n",
    "typical in OTU (Operational Taxonomic Units) abundances or other biological data."
   ]
  },
  {
   "cell_type": "code",
   "execution_count": 9,
   "id": "7fcaefb9-3ebd-47c2-9eb2-bc3ce0bd1a31",
   "metadata": {
    "tags": []
   },
   "outputs": [],
   "source": [
    "log_transposed_otu_df = numpy.log10(transposed_otu_df + 1)"
   ]
  },
  {
   "cell_type": "markdown",
   "id": "af1b8d82-2924-4e5f-977a-37478966b549",
   "metadata": {},
   "source": [
    "PCA reduces the data from many dimensions (variables) to just two main components (PC1 and PC2) that capture the most important patterns in the data. \n",
    "\n",
    "This is done after log transforming and transposing the original data, which likely makes the data more suitable for \n",
    "PCA by normalizing the distribution and aligning samples as rows. \n",
    "\n",
    "The resulting two main components are stored in a new table with the same sample identifiers (index) as the original data and two columns named 'PC1' and 'PC2'."
   ]
  },
  {
   "cell_type": "code",
   "execution_count": 10,
   "id": "458089c5-c7d6-40ce-838b-f9686f83b30c",
   "metadata": {
    "tags": []
   },
   "outputs": [],
   "source": [
    "pca_df = pandas.DataFrame(PCA(2).fit_transform(log_transposed_otu_df), index=log_transposed_otu_df.index, columns=['PC1', 'PC2'])\n",
    "pca_df = pandas.concat([pca_df, aligned_sample_df], axis=1)"
   ]
  },
  {
   "cell_type": "markdown",
   "id": "43ca726d-23fc-4292-a9c5-a5de14151fdf",
   "metadata": {},
   "source": [
    "We can now plot the data from `pca_df` with 'PC1' values on the x-axis and 'PC2' values on the y-axis,\n",
    "and colors the points based on different categories found in the '**Label**' (Early or Late) column to visually distinguish between them."
   ]
  },
  {
   "cell_type": "code",
   "execution_count": 11,
   "id": "3e65bd42-abab-4cb9-a54e-555906c32222",
   "metadata": {
    "tags": []
   },
   "outputs": [
    {
     "data": {
      "text/plain": [
       "<Axes: xlabel='PC1', ylabel='PC2'>"
      ]
     },
     "execution_count": 11,
     "metadata": {},
     "output_type": "execute_result"
    },
    {
     "data": {
      "image/png": "[encoded data removed]",
      "text/plain": [
       "<Figure size 640x480 with 1 Axes>"
      ]
     },
     "metadata": {},
     "output_type": "display_data"
    }
   ],
   "source": [
    "seaborn.scatterplot(pca_df, x='PC1', y='PC2', hue='Label')"
   ]
  },
  {
   "cell_type": "markdown",
   "id": "e7918aa7-dc50-45fd-9244-47b1b0f879eb",
   "metadata": {},
   "source": [
    "The microbiome seems very distinct in the two categories. \n",
    "\n",
    "Is the microbiome also associated with the sex of the mouse?"
   ]
  },
  {
   "cell_type": "code",
   "execution_count": 12,
   "id": "dc03977b-dde6-44bf-b802-2d3184a2eed6",
   "metadata": {
    "tags": []
   },
   "outputs": [
    {
     "data": {
      "text/plain": [
       "<Axes: xlabel='PC1', ylabel='PC2'>"
      ]
     },
     "execution_count": 12,
     "metadata": {},
     "output_type": "execute_result"
    },
    {
     "data": {
      "image/png": "[encoded data removed]",
      "text/plain": [
       "<Figure size 640x480 with 1 Axes>"
      ]
     },
     "metadata": {},
     "output_type": "display_data"
    }
   ],
   "source": [
    "seaborn.scatterplot(pca_df, x='PC1', y='PC2', hue='Sex')"
   ]
  },
  {
   "cell_type": "markdown",
   "id": "14f93d6c-fd89-41f0-a51a-8f48205fdae7",
   "metadata": {},
   "source": [
    "From our graphical exploration, it doesn't look so."
   ]
  },
  {
   "cell_type": "markdown",
   "id": "3176e7a7-dea1-432c-9fac-53bf65560cc9",
   "metadata": {},
   "source": [
    "## A statistical test\n",
    "\n",
    "We can use the [Mann-Whitney U test](https://en.wikipedia.org/wiki/Mann%E2%80%93Whitney_U_test)\n",
    "to determine significant differences between two independent groups across various features. \n",
    "\n",
    "The method involves calculating p-values for each feature to assess the likelihood of observing \n",
    "the current data under the null hypothesis—that the distributions of both groups are identical. \n",
    "\n",
    "These p-values are compiled and sorted to identify features with significant disparities between groups, \n",
    "offering a clear insight into the data's underlying structure without delving into specific variable names or technical details."
   ]
  },
  {
   "cell_type": "code",
   "execution_count": 13,
   "id": "6132efd9-fea0-429a-a4d0-444ee369d544",
   "metadata": {
    "tags": []
   },
   "outputs": [],
   "source": [
    "from scipy.stats import mannwhitneyu"
   ]
  },
  {
   "cell_type": "code",
   "execution_count": 14,
   "id": "95e8d324-1594-42b6-8e0d-849a748b76de",
   "metadata": {
    "tags": []
   },
   "outputs": [
    {
     "data": {
      "text/plain": [
       "seq_137    2.087308e-40\n",
       "seq_109    4.223526e-38\n",
       "seq_19     2.982987e-32\n",
       "seq_249    1.518142e-28\n",
       "seq_215    5.514011e-28\n",
       "               ...     \n",
       "seq_289    9.670333e-01\n",
       "seq_381    9.684301e-01\n",
       "seq_330    9.794577e-01\n",
       "seq_335    9.885374e-01\n",
       "seq_226    9.944515e-01\n",
       "Length: 387, dtype: float64"
      ]
     },
     "execution_count": 14,
     "metadata": {},
     "output_type": "execute_result"
    }
   ],
   "source": [
    "pandas.Series({\n",
    "    name: mannwhitneyu(*x.groupby(aligned_sample_df['Label']).agg(list)).pvalue\n",
    "    for name, x in transposed_otu_df.items()\n",
    "}).sort_values()"
   ]
  },
  {
   "cell_type": "markdown",
   "id": "008b8b0f-8f50-4c08-9f91-30a4bde376fe",
   "metadata": {
    "tags": []
   },
   "source": [
    "Each representative sequence (OTU or ASV...) is associated with a p-value, \n",
    "indicating the statistical significance of the difference between two groups for that particular sequence.\n",
    "\n",
    "The p-values range from extremely small (e.g., 2.087308e-40 for seq_137) to values close to 1 (e.g., 0.9944515 for seq_226), \n",
    "sorted in ascending order. \n",
    "\n",
    "Smaller p-values suggest strong evidence against the null hypothesis, implying significant differences between the groups for those sequences. \n",
    "In contrast, p-values near 1 indicate little to no evidence against the null hypothesis, suggesting no significant difference between the groups for those sequences."
   ]
  },
  {
   "cell_type": "markdown",
   "id": "7cee1049-a372-40a4-86d1-fc59f236eab9",
   "metadata": {},
   "source": [
    "## Supervised approach\n",
    "\n",
    "In this section, we explore the application of machine learning to our dataset using a **Random Forest Classifier**\n",
    "(see our previous [workshop by Dipali Singh](https://drive.google.com/drive/folders/1UY6pvTyzaAuNIgJfXMwIWCEBryKdcVdb).\n",
    "\n",
    "Note that we will use two *labels*:\n",
    "* \"Label\" (can be \"Early\" or \"Late)\n",
    "* \"Sex\" (can be \"Male\" or \"Female\")\n",
    "\n",
    "As we noticed, there is a clear separation among *Early* and *Late* samples."
   ]
  },
  {
   "cell_type": "code",
   "execution_count": 15,
   "id": "64fa259f-7199-4e00-b569-b81ae464c4a7",
   "metadata": {
    "tags": []
   },
   "outputs": [],
   "source": [
    "from sklearn.model_selection import cross_val_score, GroupKFold, KFold\n",
    "from sklearn.ensemble import RandomForestClassifier"
   ]
  },
  {
   "cell_type": "code",
   "execution_count": 16,
   "id": "de989a21-004f-4f47-adc4-ee9460240c83",
   "metadata": {
    "tags": []
   },
   "outputs": [],
   "source": [
    "y_label = sample_df.loc[transposed_otu_df.index, 'Label']\n",
    "y_sex = sample_df.loc[transposed_otu_df.index, 'Sex']\n",
    "individual = sample_df.loc[transposed_otu_df.index, 'Individual']"
   ]
  },
  {
   "cell_type": "markdown",
   "id": "80a26a9c-1f4b-44a6-96c6-f39140fd265c",
   "metadata": {},
   "source": [
    "Predicting on the training set"
   ]
  },
  {
   "cell_type": "code",
   "execution_count": 17,
   "id": "2aa581e8-b5be-4825-8697-84dfadcad461",
   "metadata": {
    "tags": []
   },
   "outputs": [
    {
     "data": {
      "text/plain": [
       "1.0"
      ]
     },
     "execution_count": 17,
     "metadata": {},
     "output_type": "execute_result"
    }
   ],
   "source": [
    "RandomForestClassifier(random_state=0).fit(log_transposed_otu_df, y_label).score(log_transposed_otu_df, y_label)"
   ]
  },
  {
   "cell_type": "markdown",
   "id": "b9b97526-c9f8-4e0c-89d6-40b4c4994fd9",
   "metadata": {},
   "source": [
    "Impressive, or \"too good to be true\"?\n",
    "\n",
    "### Splitting Data for Training and Testing\n",
    "\n",
    "Following the initial model evaluation, we proceed to split our dataset into training and testing sets using the `train_test_split` method. \n",
    "This crucial step divides the dataset into separate parts: one for training the Random Forest Classifier and another for testing its performance on unseen data. \n",
    "\n",
    "The shape attributes of `X_train` and `X_test` are examined to understand the distribution of data between the training and testing phases.\n",
    "Subsequently, a new Random Forest Classifier is trained on the training set and its accuracy is evaluated on the test set. \n",
    "\n",
    "This process not only validates the model's ability to generalize to new data but also provides insights into its predictive accuracy, helping identify potential overfitting or underfitting issues."
   ]
  },
  {
   "cell_type": "code",
   "execution_count": 18,
   "id": "db0ca1c5-ca1e-4bae-9d83-d6547e1daa33",
   "metadata": {
    "tags": []
   },
   "outputs": [],
   "source": [
    "from sklearn.model_selection import train_test_split"
   ]
  },
  {
   "cell_type": "code",
   "execution_count": 19,
   "id": "c25b3b71-5a5b-4155-8d14-688d2ce73837",
   "metadata": {
    "tags": []
   },
   "outputs": [
    {
     "data": {
      "text/plain": [
       "((211, 387), (71, 387))"
      ]
     },
     "execution_count": 19,
     "metadata": {},
     "output_type": "execute_result"
    }
   ],
   "source": [
    "X_train, X_test, y_train, y_test = train_test_split(log_transposed_otu_df, y_label)\n",
    "# Let's see the \"shape\" of these tables\n",
    "X_train.shape, X_test.shape"
   ]
  },
  {
   "cell_type": "markdown",
   "id": "7cf93430-b350-4ebb-8bd4-d2753d597edb",
   "metadata": {},
   "source": [
    "The first pair (211, 387) refers to the size of the **training dataset** (X_train). \n",
    "It means that there are 211 samples or rows, and each sample has 387 features or columns. This is the larger portion of the dataset and is used to train or teach the model.\n",
    "\n",
    "The second pair (71, 387) refers to the size of the **testing dataset** (X_test). \n",
    "It indicates that there are 71 samples or rows, and like the training set, each sample has 387 features or columns. This portion of the dataset is used to test or evaluate how well the model has learned from the training dataset."
   ]
  },
  {
   "cell_type": "code",
   "execution_count": 20,
   "id": "e5d1d5ca-e803-4ae3-b0ee-8d9e875410a2",
   "metadata": {
    "tags": []
   },
   "outputs": [
    {
     "data": {
      "text/plain": [
       "0.9577464788732394"
      ]
     },
     "execution_count": 20,
     "metadata": {},
     "output_type": "execute_result"
    }
   ],
   "source": [
    "RandomForestClassifier(random_state=0).fit(X_train, y_train).score(X_test, y_test)"
   ]
  },
  {
   "cell_type": "markdown",
   "id": "824edf70-78ea-41be-bd55-409ea6904d01",
   "metadata": {},
   "source": [
    "### Repeated train-test split\n",
    "\n",
    "\n",
    "In the next section, we conduct an experiment to further assess the performance of our model. By repeating the process of dividing our dataset into training and testing sets ten times, we train and test a Random Forest Classifier on each new split. For each iteration, we note the model's accuracy score on the test data, providing us with ten separate evaluations.\n",
    "\n",
    "In this way we have a more accurate estimate of the performance of the model."
   ]
  },
  {
   "cell_type": "code",
   "execution_count": 22,
   "id": "b6b85d95-1090-4890-84d7-b747be15d23f",
   "metadata": {
    "tags": []
   },
   "outputs": [
    {
     "data": {
      "text/plain": [
       "[0.971830985915493,\n",
       " 0.9436619718309859,\n",
       " 0.9436619718309859,\n",
       " 0.9577464788732394,\n",
       " 0.9859154929577465,\n",
       " 0.9577464788732394,\n",
       " 0.9577464788732394,\n",
       " 0.9577464788732394,\n",
       " 0.971830985915493,\n",
       " 0.971830985915493]"
      ]
     },
     "execution_count": 22,
     "metadata": {},
     "output_type": "execute_result"
    }
   ],
   "source": [
    "scores = []\n",
    "for i in range(10):\n",
    "    X_train, X_test, y_train, y_test = train_test_split(log_transposed_otu_df, y_label)\n",
    "    accuracy = RandomForestClassifier(random_state=0).fit(X_train, y_train).score(X_test, y_test)\n",
    "    scores.append(accuracy)\n",
    "scores"
   ]
  },
  {
   "cell_type": "markdown",
   "id": "3beaa887-d110-4161-9f24-139dd6410afb",
   "metadata": {},
   "source": [
    "It's important to observe the variability: if we only assess the accuracy once, we can get a misleading number out of a specific training set.\n",
    "\n",
    "After completing these iterations, we train another Random Forest Classifier on the entire dataset and assess its accuracy in predicting a specific outcome (indicated by y_sex). \n",
    "\n",
    "This final step helps us understand how well the model performs when trained and evaluated on the same data, offering a comparison point to the earlier cross-validation results."
   ]
  },
  {
   "cell_type": "code",
   "execution_count": 23,
   "id": "42b4c305-7d66-46ca-8bff-ddbc650668c2",
   "metadata": {
    "tags": []
   },
   "outputs": [
    {
     "name": "stdout",
     "output_type": "stream",
     "text": [
      "Mean accuracy = 0.962 ± 0.013\n"
     ]
    }
   ],
   "source": [
    "print(f\"Mean accuracy = {numpy.mean(scores):.3f} ± {numpy.std(scores):.3f}\")"
   ]
  },
  {
   "cell_type": "markdown",
   "id": "985c487a-b10c-4f0b-9716-3cc1fde0d46e",
   "metadata": {},
   "source": [
    "### A prediction on another variable: sex\n"
   ]
  },
  {
   "cell_type": "code",
   "execution_count": 24,
   "id": "8abc590a-14d5-4138-a630-2a99e475164c",
   "metadata": {
    "tags": []
   },
   "outputs": [
    {
     "data": {
      "text/plain": [
       "1.0"
      ]
     },
     "execution_count": 24,
     "metadata": {},
     "output_type": "execute_result"
    }
   ],
   "source": [
    "RandomForestClassifier(random_state=0).fit(log_transposed_otu_df, y_sex).score(log_transposed_otu_df, y_sex)"
   ]
  },
  {
   "cell_type": "markdown",
   "id": "0ad4a42c-dfd9-460f-a802-97b5d8838b0f",
   "metadata": {},
   "source": [
    "#### Sex bias?\n",
    "\n",
    "What is the difference of the cross validation if we do it randomly or controlling the sex variable?"
   ]
  },
  {
   "cell_type": "markdown",
   "id": "3201f621-a0c4-4f2b-a6bf-b64032cd2a2e",
   "metadata": {},
   "source": [
    "In this step, we apply the `cross_val_score` function to assess the overall performance of the Random Forest Classifier across multiple subsets of the dataset. \n",
    "\n",
    "This function divides the dataset (X and y) into several distinct folds, trains the model on some of these folds, and tests it on the remaining ones. \n",
    "\n",
    "This process is repeated multiple times, each time with a different set of folds as the training and testing sets. \n",
    "The aim is to evaluate the model's effectiveness in a more robust and less biased way than using a single train-test split. \n",
    "The scores from each iteration are then averaged to produce a mean score, which provides a comprehensive measure of the model's accuracy across different parts of the dataset. \n",
    "By setting `random_state=0`, we ensure that the splitting of the dataset into folds is consistent across different runs, making the evaluation process reproducible and reliable."
   ]
  },
  {
   "cell_type": "code",
   "execution_count": 26,
   "id": "eb43a415-263e-47f1-89b5-3b3005204ce7",
   "metadata": {
    "tags": []
   },
   "outputs": [
    {
     "data": {
      "text/plain": [
       "0.9679824561403508"
      ]
     },
     "execution_count": 26,
     "metadata": {},
     "output_type": "execute_result"
    }
   ],
   "source": [
    "# Label (Early/Late)\n",
    "cross_val_score(RandomForestClassifier(random_state=0), log_transposed_otu_df, y_label).mean()"
   ]
  },
  {
   "cell_type": "code",
   "execution_count": 27,
   "id": "146195f8-125c-4f5e-87d9-0393ec036839",
   "metadata": {
    "tags": []
   },
   "outputs": [
    {
     "data": {
      "text/plain": [
       "0.90062656641604"
      ]
     },
     "execution_count": 27,
     "metadata": {},
     "output_type": "execute_result"
    }
   ],
   "source": [
    "# Sex\n",
    "cross_val_score(RandomForestClassifier(random_state=0), log_transposed_otu_df, y_sex).mean()"
   ]
  },
  {
   "cell_type": "markdown",
   "id": "f38e1b7f-26d9-4dc9-851a-ecf33673c0e4",
   "metadata": {},
   "source": [
    "In these steps, we're enhancing the evaluation of the Random Forest Classifier by incorporating a grouping factor into our cross-validation process, specifically using [GroupKFold](https://scikit-learn.org/stable/modules/generated/sklearn.model_selection.GroupKFold.html) cross-validation. \n",
    "\n",
    "This method is particularly useful when the dataset contains multiple observations from the same group or individual, \n",
    "and you want to ensure that data from the same group is not split across both training and testing sets. \n",
    "\n",
    "This helps to prevent data leakage and ensures that the model's performance is evaluated in a way that more accurately reflects its ability to generalize to entirely new groups or individuals."
   ]
  },
  {
   "cell_type": "code",
   "execution_count": 28,
   "id": "940f1fde-0aa1-4883-8a87-4973e7639a52",
   "metadata": {
    "tags": []
   },
   "outputs": [
    {
     "data": {
      "text/plain": [
       "0.9357221479500891"
      ]
     },
     "execution_count": 28,
     "metadata": {},
     "output_type": "execute_result"
    }
   ],
   "source": [
    "cross_val_score(RandomForestClassifier(), log_transposed_otu_df, y_label, groups=individual, cv=GroupKFold()).mean()"
   ]
  },
  {
   "cell_type": "markdown",
   "id": "9cb665ad-b63c-4277-820d-a5cfd8a9df38",
   "metadata": {
    "tags": []
   },
   "source": [
    "> We use sex to show how the training accuracy can be overestimated\n",
    "\n",
    "Finally we can assess our model controlling not only for sex, but also for individual (we observe the same individual multiple times, hence if we randomly split the training and test dataset we will \"see\" again in the test.\n",
    "\n",
    "As we can see, the score drops to 68%."
   ]
  },
  {
   "cell_type": "code",
   "execution_count": 29,
   "id": "cadead5c-a362-4bb8-825d-79e837cf175a",
   "metadata": {
    "tags": []
   },
   "outputs": [
    {
     "data": {
      "text/plain": [
       "0.6740282976827094"
      ]
     },
     "execution_count": 29,
     "metadata": {},
     "output_type": "execute_result"
    }
   ],
   "source": [
    "cross_val_score(RandomForestClassifier(), log_transposed_otu_df, y_sex, groups=individual, cv=GroupKFold()).mean()"
   ]
  },
  {
   "cell_type": "markdown",
   "id": "39fc2566-abd2-41d5-ae02-7fa190740237",
   "metadata": {},
   "source": [
    "### Continuous Outcome Prediction\n",
    "\n",
    "In this section, we delve into predictive modeling for continuous outcomes using the `RandomForestRegressor`,\n",
    "focusing on predicting the 'Day' variable from our dataset. \n",
    "Initially, we fit and assess the model's performance directly on our data, targeting the continuous '**Day**' variable as our prediction goal (i.e. number of days after wheaning, that was previously used as a categorical label Early/Late).\n",
    "\n",
    "To validate our model's accuracy and generalizability, we employ two cross-validation strategies: [KFold](https://scikit-learn.org/stable/modules/generated/sklearn.model_selection.KFold.html#sklearn-model-selection-kfold) and [GroupKFold](https://scikit-learn.org/stable/modules/generated/sklearn.model_selection.GroupKFold.html). \n",
    "\n",
    "* The KFold method provides a basic evaluation by partitioning the data into folds for systematic training and testing. To address the challenge of repeated observations from the same individuals, we then apply GroupKFold. \n",
    "* GroupKFold ensures that all data from an individual is either in the training set or the testing set, offering a more realistic assessment of the model’s performance on entirely new data.\n",
    "\n",
    "These steps aim to refine our understanding of the RandomForestRegressor’s predictive capability, especially in a context where the independence of observations is crucial for accurate model evaluation."
   ]
  },
  {
   "cell_type": "code",
   "execution_count": 30,
   "id": "4d20cfde-cfde-4546-8f6f-835f0730767e",
   "metadata": {
    "tags": []
   },
   "outputs": [],
   "source": [
    "from sklearn.ensemble import RandomForestRegressor\n",
    "\n",
    "# Extract the 'Day' column from 'sample_df' for rows that match the index of 'log_transposed_otu_df' as the target variable.\n",
    "y_day = sample_df.loc[log_transposed_otu_df.index, 'Day']"
   ]
  },
  {
   "cell_type": "markdown",
   "id": "7b88d898-0f94-4fb8-8aa4-4466bfef7a9f",
   "metadata": {},
   "source": [
    "Create a RandomForestRegressor, fit it to the data, and then calculate and return the coefficient of determination (R^2) of the prediction."
   ]
  },
  {
   "cell_type": "code",
   "execution_count": 31,
   "id": "ae44c029-9041-4204-8460-70cba13cd526",
   "metadata": {
    "tags": []
   },
   "outputs": [
    {
     "data": {
      "text/plain": [
       "0.9704632885284774"
      ]
     },
     "execution_count": 31,
     "metadata": {},
     "output_type": "execute_result"
    }
   ],
   "source": [
    "RandomForestRegressor().fit(log_transposed_otu_df, y_day).score(log_transposed_otu_df, y_day)"
   ]
  },
  {
   "cell_type": "markdown",
   "id": "3a4ad0b4-6616-4305-b031-ba0494e2be74",
   "metadata": {},
   "source": [
    "Perform cross-validation using a RandomForestRegressor, returning the mean score of the cross-validated groups with **KFold** cross-validator (cv=)."
   ]
  },
  {
   "cell_type": "code",
   "execution_count": 32,
   "id": "5d680709-03ac-4871-b2da-39fc9e1f1338",
   "metadata": {
    "tags": []
   },
   "outputs": [
    {
     "data": {
      "text/plain": [
       "0.7896287622886529"
      ]
     },
     "execution_count": 32,
     "metadata": {},
     "output_type": "execute_result"
    }
   ],
   "source": [
    "cross_val_score(RandomForestRegressor(), log_transposed_otu_df, y_day, groups=individual, cv=KFold()).mean()"
   ]
  },
  {
   "cell_type": "markdown",
   "id": "4aefcec2-4f0a-483f-b157-de52668287d6",
   "metadata": {},
   "source": [
    "Perform cross-validation using a RandomForestRegressor, but with the **GroupKFold** cross-validator to take into account groupings specified by 'individual'."
   ]
  },
  {
   "cell_type": "code",
   "execution_count": 33,
   "id": "9202fff7-ffcf-49e5-80ed-27d033df92f7",
   "metadata": {
    "tags": []
   },
   "outputs": [
    {
     "data": {
      "text/plain": [
       "0.7955677741593228"
      ]
     },
     "execution_count": 33,
     "metadata": {},
     "output_type": "execute_result"
    }
   ],
   "source": [
    "cross_val_score(RandomForestRegressor(), log_transposed_otu_df, y_day, groups=individual, cv=GroupKFold()).mean()"
   ]
  },
  {
   "cell_type": "markdown",
   "id": "185a0964-fdf6-4a87-802f-bc21660e3fa9",
   "metadata": {},
   "source": [
    "Are we good enough in predicting the variable?\n",
    "\n",
    "The improvement in the score from KFold to GroupKFold (from 0.7965 to 0.8098) suggests that accounting for groupings within your data leads to a more accurate model. \n",
    "This is likely because GroupKFold prevents information leakage between the training and testing sets by ensuring that data from the same group (e.g., the same individual) are all in either the training set or the testing set but not split across both.\n",
    " "
   ]
  },
  {
   "cell_type": "code",
   "execution_count": null,
   "id": "bbbcd2ec-84e7-4499-8080-91a89a1f5fba",
   "metadata": {},
   "outputs": [],
   "source": []
  }
 ],
 "metadata": {
  "kernelspec": {
   "display_name": "Python [conda env:mlg]",
   "language": "python",
   "name": "conda-env-mlg-py"
  },
  "language_info": {
   "codemirror_mode": {
    "name": "ipython",
    "version": 3
   },
   "file_extension": ".py",
   "mimetype": "text/x-python",
   "name": "python",
   "nbconvert_exporter": "python",
   "pygments_lexer": "ipython3",
   "version": "3.10.13"
  }
 },
 "nbformat": 4,
 "nbformat_minor": 5
}
